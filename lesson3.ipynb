{
 "cells": [
  {
   "cell_type": "code",
   "execution_count": 1,
   "metadata": {},
   "outputs": [],
   "source": [
    "import numpy as np\n",
    "import pandas as pd\n",
    "import matplotlib.pyplot as plt\n",
    "import warnings\n",
    "warnings.filterwarnings('ignore')"
   ]
  },
  {
   "cell_type": "code",
   "execution_count": 2,
   "metadata": {},
   "outputs": [],
   "source": [
    "from math import factorial,exp\n",
    "def combinations(n, k):\n",
    "    return int(factorial(n) / (factorial(k) * factorial(n - k)))"
   ]
  },
  {
   "cell_type": "markdown",
   "metadata": {},
   "source": [
    "### Задание 1\n",
    "Даны значения зарплат из выборки выпускников: 100, 80, 75, 77, 89, 33, 45, 25, 65, 17, 30, 24, 57, 55, 70, 75, 65, 84, 90, 150. Посчитать (желательно без использования статистических методов наподобие std, var, mean) среднее арифметическое, среднее квадратичное отклонение, смещенную и несмещенную оценки дисперсий для данной выборки."
   ]
  },
  {
   "cell_type": "code",
   "execution_count": 3,
   "metadata": {},
   "outputs": [],
   "source": [
    "z = np.array([100, 80, 75, 77, 89, 33, 45, 25, 65, 17, 30, 24, 57, 55, 70, 75, 65, 84, 90, 150])"
   ]
  },
  {
   "cell_type": "code",
   "execution_count": 27,
   "metadata": {},
   "outputs": [
    {
     "data": {
      "text/plain": [
       "(65.3, 65.3)"
      ]
     },
     "execution_count": 27,
     "metadata": {},
     "output_type": "execute_result"
    }
   ],
   "source": [
    "m = z.sum()/len(z) ## среднее арифметическое\n",
    "mean = z.mean()\n",
    "m, mean"
   ]
  },
  {
   "cell_type": "code",
   "execution_count": 29,
   "metadata": {},
   "outputs": [
    {
     "data": {
      "text/plain": [
       "(950.11, 950.11)"
      ]
     },
     "execution_count": 29,
     "metadata": {},
     "output_type": "execute_result"
    }
   ],
   "source": [
    "height_variance = ((z - m)**2).sum() / len(z) ## смещенная оценка дисперсии\n",
    "var = z.var()\n",
    "height_variance, var"
   ]
  },
  {
   "cell_type": "code",
   "execution_count": 30,
   "metadata": {},
   "outputs": [
    {
     "data": {
      "text/plain": [
       "(1000.1157894736842, 1000.1157894736842)"
      ]
     },
     "execution_count": 30,
     "metadata": {},
     "output_type": "execute_result"
    }
   ],
   "source": [
    "height_variance2 = ((z - m)**2).sum() / (len(z)-1) ## несмещенная оценка дисперсии\n",
    "var2 = z.var(ddof=1)\n",
    "height_variance2,var2"
   ]
  },
  {
   "cell_type": "code",
   "execution_count": 31,
   "metadata": {},
   "outputs": [
    {
     "data": {
      "text/plain": [
       "(30.823854398825596, 30.823854398825596)"
      ]
     },
     "execution_count": 31,
     "metadata": {},
     "output_type": "execute_result"
    }
   ],
   "source": [
    "height_std = np.sqrt(height_variance)  ## среднее квадратичное отклонение\n",
    "std = z.std()\n",
    "height_std,std"
   ]
  },
  {
   "cell_type": "code",
   "execution_count": 52,
   "metadata": {},
   "outputs": [
    {
     "data": {
      "text/plain": [
       "(65.3, 950.11, 1000.1157894736842, 30.823854398825596)"
      ]
     },
     "execution_count": 52,
     "metadata": {},
     "output_type": "execute_result"
    }
   ],
   "source": [
    "mean, height_variance, height_variance2, height_std"
   ]
  },
  {
   "cell_type": "markdown",
   "metadata": {},
   "source": [
    "### Задание 2\n",
    "В первом ящике находится 8 мячей, из которых 5 - белые. Во втором ящике - 12 мячей, из которых 5 белых. Из первого ящика вытаскивают случайным образом два мяча, из второго - 4. Какова вероятность того, что 3 мяча белые?"
   ]
  },
  {
   "cell_type": "markdown",
   "metadata": {},
   "source": [
    "1. 1я - 2б; 2я - 1б,3ч\n",
    "2. 1я - 1б; 2я - 2б,2ч\n",
    "3. 1я - 0б; 2я - 3б,1ч"
   ]
  },
  {
   "cell_type": "code",
   "execution_count": 67,
   "metadata": {},
   "outputs": [
    {
     "data": {
      "text/plain": [
       "(0.3686868686868687,\n",
       " 0.12626262626262627,\n",
       " 0.22727272727272727,\n",
       " 0.01515151515151515)"
      ]
     },
     "execution_count": 67,
     "metadata": {},
     "output_type": "execute_result"
    }
   ],
   "source": [
    "##1\n",
    "p1 = (combinations(5, 2) / combinations(8, 2)) * (combinations(5, 1) * combinations(7, 3) / combinations(12, 4))\n",
    "p2 = (combinations(5, 1) * combinations(3, 1) / combinations(8, 2)) * (combinations(5, 2) * combinations(7, 2) / combinations(12, 4))\n",
    "p3 = (combinations(3, 2) / combinations(8, 2)) * (combinations(5, 3) * combinations(7, 1) / combinations(12, 4))\n",
    "p = p1 + p2 + p3\n",
    "p, p1, p2, p3"
   ]
  },
  {
   "cell_type": "markdown",
   "metadata": {},
   "source": [
    "### Задание 3\n",
    "На соревновании по биатлону один из трех спортсменов стреляет и попадает в мишень. Вероятность попадания для первого спортсмена равна 0.9, для второго — 0.8, для третьего — 0.6. Найти вероятность того, что выстрел произведен: a). первым спортсменом б). вторым спортсменом в). третьим спортсменом.\n"
   ]
  },
  {
   "cell_type": "markdown",
   "metadata": {},
   "source": [
    "Событием  A  будем считать попадание в мишень, а событиями  B1, B2  и  B3  — что выстрел совершил первый, второй или третий спортсмен, а априорная вероятность, что выстрел произведен каждым из спортсменов p_n = 1/3"
   ]
  },
  {
   "cell_type": "code",
   "execution_count": 61,
   "metadata": {},
   "outputs": [
    {
     "data": {
      "text/plain": [
       "(0.3913043478260869, 0.34782608695652173, 0.26086956521739124)"
      ]
     },
     "execution_count": 61,
     "metadata": {},
     "output_type": "execute_result"
    }
   ],
   "source": [
    "p_n = 1/3\n",
    "P_A_B1 = 0.9\n",
    "P_A_B2 = 0.8\n",
    "P_A_B3 = 0.6\n",
    "P_A = p_n * (P_A_B1 + P_A_B2 + P_A_B3)\n",
    "P_B1_A = p_n * P_A_B1 / P_A\n",
    "P_B2_A = p_n * P_A_B2 / P_A\n",
    "P_B3_A = p_n * P_A_B3 / P_A\n",
    "P_B1_A, P_B2_A, P_B3_A"
   ]
  },
  {
   "cell_type": "markdown",
   "metadata": {},
   "source": [
    "### Задание 4\n",
    "В университет на факультеты A и B поступило равное количество студентов, а на факультет C студентов поступило столько же, сколько на A и B вместе. Вероятность того, что студент факультета A сдаст первую сессию, равна 0.8. Для студента факультета B эта вероятность равна 0.7, а для студента факультета C - 0.9. Студент сдал первую сессию. Какова вероятность, что он учится: a). на факультете A б). на факультете B в). на факультете C?"
   ]
  },
  {
   "cell_type": "markdown",
   "metadata": {},
   "source": [
    "Событием X будем считать что студент сдал первую сессию, а событиями A, B и C — что сдавший студент с факультета А, В и С.\n",
    "Априорная вероятность, что сдавший сессию студент с каждого из факультетов p_n_a = 1/4, p_n_b = 1/4, p_n_c = 1/2"
   ]
  },
  {
   "cell_type": "code",
   "execution_count": 71,
   "metadata": {},
   "outputs": [
    {
     "data": {
      "text/plain": [
       "(0.24242424242424246, 0.21212121212121213, 0.5454545454545455)"
      ]
     },
     "execution_count": 71,
     "metadata": {},
     "output_type": "execute_result"
    }
   ],
   "source": [
    "p_n_a = 1/4\n",
    "p_n_b = 1/4\n",
    "p_n_c = 1/2\n",
    "P_X_A = 0.8\n",
    "P_X_B = 0.7\n",
    "P_X_C = 0.9\n",
    "P_A = p_n_a * P_X_A + p_n_b * P_X_B + p_n_c * P_X_C\n",
    "P_A_X = p_n_a * P_X_A / P_A\n",
    "P_B_X = p_n_b * P_X_B / P_A\n",
    "P_C_X = p_n_c * P_X_C / P_A\n",
    "P_A_X, P_B_X, P_C_X"
   ]
  },
  {
   "cell_type": "markdown",
   "metadata": {},
   "source": [
    "### Задание 5\n",
    "Устройство состоит из трех деталей. Для первой детали вероятность выйти из строя в первый месяц равна 0.1, для второй - 0.2, для третьей - 0.25. Какова вероятность того, что в первый месяц выйдут из строя: а). все детали б). только две детали в). хотя бы одна деталь г). от одной до двух деталей?"
   ]
  },
  {
   "cell_type": "code",
   "execution_count": 63,
   "metadata": {},
   "outputs": [
    {
     "data": {
      "text/plain": [
       "(0.005000000000000001, 0.08000000000000002, 0.45999999999999996, 0.455)"
      ]
     },
     "execution_count": 63,
     "metadata": {},
     "output_type": "execute_result"
    }
   ],
   "source": [
    "p1 = 0.1\n",
    "p2 = 0.2\n",
    "p3 = 0.25\n",
    "p_1 = p1 * p2 * p3 ## все детали\n",
    "p_2 = p1 * p2 * (1 - p3) + p1 * p3 * (1 - p2) + p2 * p3 * (1 - p1) ## только две детали\n",
    "p_3 = 1 - (1 - p1) * (1 - p2) * (1 - p3) ## хотя бы одна деталь\n",
    "p_4 = p1 * (1 - p2) * (1 - p3) + p2 * (1 - p1) * (1 - p3) + p3 * (1 - p1) * (1 - p2) + p_2 ## от одной до двух деталей\n",
    "p_1, p_2, p_3, p_4"
   ]
  }
 ],
 "metadata": {
  "kernelspec": {
   "display_name": "Python 3",
   "language": "python",
   "name": "python3"
  },
  "language_info": {
   "codemirror_mode": {
    "name": "ipython",
    "version": 3
   },
   "file_extension": ".py",
   "mimetype": "text/x-python",
   "name": "python",
   "nbconvert_exporter": "python",
   "pygments_lexer": "ipython3",
   "version": "3.7.3"
  }
 },
 "nbformat": 4,
 "nbformat_minor": 2
}
