{
 "cells": [
  {
   "cell_type": "markdown",
   "metadata": {},
   "source": [
    "### задание 1\n",
    "Случайная непрерывная величина A имеет равномерное распределение на промежутке (200, 800].\n",
    "Найдите ее среднее значение и дисперсию."
   ]
  },
  {
   "cell_type": "code",
   "execution_count": 48,
   "metadata": {},
   "outputs": [
    {
     "name": "stdout",
     "output_type": "stream",
     "text": [
      "Среднее - 500.0 дисперсия- 30000.0\n"
     ]
    }
   ],
   "source": [
    "a = 200\n",
    "b = 800 \n",
    "M=(a+b)/2\n",
    "D=(b-a)**2/12\n",
    "print('Среднее -',M,'дисперсия-',D)"
   ]
  },
  {
   "cell_type": "markdown",
   "metadata": {},
   "source": [
    "### задание 2\n",
    "О случайной непрерывной равномерно распределенной величине B известно, что ее дисперсия равна 0.2.\n",
    "Можно ли найти правую границу величины B и ее среднее значение зная, что левая граница равна 0.5?\n",
    "Если да, найдите ее."
   ]
  },
  {
   "cell_type": "code",
   "execution_count": 51,
   "metadata": {},
   "outputs": [
    {
     "name": "stdout",
     "output_type": "stream",
     "text": [
      "правая граница - 2.049193338482967 среднее значение - 1.2745966692414834\n"
     ]
    }
   ],
   "source": [
    "a = 0.5\n",
    "D = 0.2\n",
    "b = pow(12*D,1/2)+a\n",
    "M = (a+b)/2\n",
    "print('правая граница -',b,'среднее значение -', M)"
   ]
  },
  {
   "cell_type": "markdown",
   "metadata": {},
   "source": [
    "### задание 3\n",
    "Непрерывная случайная величина X распределена нормально и задана плотностью распределения\n",
    "f(x) = (1 / (4 * sqrt(2*pi))) * (exp(-(x+2)**2) / 32).\n",
    "Найдите:\n",
    "а). M(X)\n",
    "б). D(X)\n",
    "в). std(X) (среднее квадратичное отклонение)"
   ]
  },
  {
   "cell_type": "markdown",
   "metadata": {},
   "source": [
    "Нормальное распределение — это распределение вероятностей непрерывной случайной величины  X , плотность вероятности которой подчиняется формуле:f(x) = (1 / (σ * sqrt(2*pi))) * (exp(-(x-a)**2) / (a*σ**2).\n",
    "a=M(X),σ**2=D(X)\n",
    "а) M(X) = -2\n",
    "σ = 4\n",
    "б) D(X) = σ**2 = 16\n",
    "в) std(X) = σ = 4"
   ]
  },
  {
   "cell_type": "markdown",
   "metadata": {},
   "source": [
    "### задание 4\n",
    "Рост взрослого населения города X имеет нормальное распределение.\n",
    "Причем, средний рост равен 174 см, а среднее квадратичное отклонение равно 8 см.\n",
    "Какова вероятность того, что случайным образом выбранный взрослый человек имеет рост:\n",
    "а). больше 182 см\n",
    "б). больше 190 см\n",
    "в). от 166 см до 190 см\n",
    "г). от 166 см до 182 см\n",
    "д). от 158 см до 190 см\n",
    "е). не выше 150 см или не ниже 190 см\n",
    "ё). не выше 150 см или не ниже 198 см\n",
    "ж). ниже 166 см."
   ]
  },
  {
   "cell_type": "code",
   "execution_count": 17,
   "metadata": {},
   "outputs": [],
   "source": [
    "def z(x):\n",
    "    a = 174\n",
    "    σ = 8\n",
    "    z = round((x-a)/σ,2)\n",
    "    return(z)"
   ]
  },
  {
   "cell_type": "code",
   "execution_count": 20,
   "metadata": {},
   "outputs": [
    {
     "name": "stdout",
     "output_type": "stream",
     "text": [
      "z182=  1.0\n",
      "z190=  2.0\n",
      "z166=  -1.0\n",
      "z158=  -2.0\n",
      "z150=  -3.0\n",
      "z198=  3.0\n"
     ]
    }
   ],
   "source": [
    "x182 = 182\n",
    "x190 = 190\n",
    "x166 = 166\n",
    "x158 = 158\n",
    "x150 = 150\n",
    "x198 = 198\n",
    "\n",
    "z182 = z(x182)\n",
    "z190 = z(x190)\n",
    "z166 = z(x166)\n",
    "z158 = z(x158)\n",
    "z150 = z(x150)\n",
    "z198 = z(x198)\n",
    "\n",
    "print('z182= ', z182)\n",
    "print('z190= ', z190)\n",
    "print('z166= ', z166)\n",
    "print('z158= ', z158)\n",
    "print('z150= ', z150)\n",
    "print('z198= ', z198)"
   ]
  },
  {
   "cell_type": "code",
   "execution_count": 21,
   "metadata": {},
   "outputs": [],
   "source": [
    "p182 = 0.1587\n",
    "p190 = 0.0228\n",
    "p166 = 0.1587\n",
    "p158 = 0.0228\n",
    "p150 = 0.0013\n",
    "p198 = 0.0013"
   ]
  },
  {
   "cell_type": "markdown",
   "metadata": {},
   "source": [
    "а). больше 182 см\n",
    "б). больше 190 см\n",
    "в). от 166 см до 190 см\n",
    "г). от 166 см до 182 см\n",
    "д). от 158 см до 190 см\n",
    "е). не выше 150 см или не ниже 190 см\n",
    "ё). не выше 150 см или не ниже 198 см\n",
    "ж). ниже 166 см."
   ]
  },
  {
   "cell_type": "code",
   "execution_count": 26,
   "metadata": {},
   "outputs": [
    {
     "data": {
      "text/plain": [
       "0.1587"
      ]
     },
     "execution_count": 26,
     "metadata": {},
     "output_type": "execute_result"
    }
   ],
   "source": [
    "p1 = p182 # а). больше 182 см\n",
    "p1"
   ]
  },
  {
   "cell_type": "code",
   "execution_count": 28,
   "metadata": {},
   "outputs": [
    {
     "data": {
      "text/plain": [
       "0.0228"
      ]
     },
     "execution_count": 28,
     "metadata": {},
     "output_type": "execute_result"
    }
   ],
   "source": [
    "p2 = p190 # б). больше 190 см\n",
    "p2"
   ]
  },
  {
   "cell_type": "code",
   "execution_count": 29,
   "metadata": {},
   "outputs": [
    {
     "data": {
      "text/plain": [
       "0.8184999999999999"
      ]
     },
     "execution_count": 29,
     "metadata": {},
     "output_type": "execute_result"
    }
   ],
   "source": [
    "p3 = 1 - p166 - p190 # в). от 166 см до 190 см\n",
    "p3"
   ]
  },
  {
   "cell_type": "code",
   "execution_count": 30,
   "metadata": {},
   "outputs": [
    {
     "data": {
      "text/plain": [
       "0.6825999999999999"
      ]
     },
     "execution_count": 30,
     "metadata": {},
     "output_type": "execute_result"
    }
   ],
   "source": [
    "p4 = 1 - p166 - p182 # г). от 166 см до 182 см\n",
    "p4"
   ]
  },
  {
   "cell_type": "code",
   "execution_count": 31,
   "metadata": {},
   "outputs": [
    {
     "data": {
      "text/plain": [
       "0.9543999999999999"
      ]
     },
     "execution_count": 31,
     "metadata": {},
     "output_type": "execute_result"
    }
   ],
   "source": [
    "p5 = 1 - p158 - p190 # д). от 158 см до 190 см\n",
    "p5"
   ]
  },
  {
   "cell_type": "code",
   "execution_count": 32,
   "metadata": {},
   "outputs": [
    {
     "data": {
      "text/plain": [
       "0.0241"
      ]
     },
     "execution_count": 32,
     "metadata": {},
     "output_type": "execute_result"
    }
   ],
   "source": [
    "p6 = p150 + p190 # е). не выше 150 см или не ниже 190 см\n",
    "p6"
   ]
  },
  {
   "cell_type": "code",
   "execution_count": 33,
   "metadata": {},
   "outputs": [
    {
     "data": {
      "text/plain": [
       "0.0026"
      ]
     },
     "execution_count": 33,
     "metadata": {},
     "output_type": "execute_result"
    }
   ],
   "source": [
    "p6 = p150 + p198 # ё). не выше 150 см или не ниже 198 см\n",
    "p6"
   ]
  },
  {
   "cell_type": "code",
   "execution_count": 35,
   "metadata": {},
   "outputs": [
    {
     "data": {
      "text/plain": [
       "0.1587"
      ]
     },
     "execution_count": 35,
     "metadata": {},
     "output_type": "execute_result"
    }
   ],
   "source": [
    "p6 = p166 # ж). ниже 166 см.\n",
    "p6"
   ]
  },
  {
   "cell_type": "markdown",
   "metadata": {},
   "source": [
    "### задание 5\n",
    "На сколько сигм (средних квадратичных отклонений) отклоняется рост человека, равный 190 см, от\n",
    "математического ожидания роста в популяции, в которой M(X) = 178 см и D(X) = 25 кв.см?"
   ]
  },
  {
   "cell_type": "code",
   "execution_count": 42,
   "metadata": {},
   "outputs": [
    {
     "name": "stdout",
     "output_type": "stream",
     "text": [
      "рост человека отклоняется на 2.4 σ\n"
     ]
    }
   ],
   "source": [
    "h = 190\n",
    "M = 178\n",
    "D = 25\n",
    "σ = pow(D, 0.5)\n",
    "x = (h-M)/σ\n",
    "print('рост человека отклоняется на',x, 'σ')"
   ]
  }
 ],
 "metadata": {
  "kernelspec": {
   "display_name": "Python 3",
   "language": "python",
   "name": "python3"
  },
  "language_info": {
   "codemirror_mode": {
    "name": "ipython",
    "version": 3
   },
   "file_extension": ".py",
   "mimetype": "text/x-python",
   "name": "python",
   "nbconvert_exporter": "python",
   "pygments_lexer": "ipython3",
   "version": "3.7.3"
  }
 },
 "nbformat": 4,
 "nbformat_minor": 2
}
