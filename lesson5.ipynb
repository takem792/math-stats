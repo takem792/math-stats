{
 "cells": [
  {
   "cell_type": "markdown",
   "metadata": {},
   "source": [
    "# Задание № 5 Иванов Сергей."
   ]
  },
  {
   "cell_type": "code",
   "execution_count": 1,
   "metadata": {},
   "outputs": [],
   "source": [
    "import numpy as np\n",
    "import pandas as pd"
   ]
  },
  {
   "cell_type": "markdown",
   "metadata": {},
   "source": [
    "### Задание 1\n",
    "Известно, что генеральная совокупность распределена нормально\n",
    "со средним квадратическим отклонением, равным 16.\n",
    "Найти доверительный интервал для оценки математического ожидания a с надежностью 0.95,\n",
    "если выборочная средняя M = 80, а объем выборки n = 256."
   ]
  },
  {
   "cell_type": "markdown",
   "metadata": {},
   "source": [
    "interval = Xmean +- z1_2 * si/sqrt(n) - считаем по Z гипотезе, так как сигма известна"
   ]
  },
  {
   "cell_type": "code",
   "execution_count": 27,
   "metadata": {},
   "outputs": [
    {
     "data": {
      "text/plain": [
       "[78.04, 81.96]"
      ]
     },
     "execution_count": 27,
     "metadata": {},
     "output_type": "execute_result"
    }
   ],
   "source": [
    "si = 16\n",
    "z1_2 = 1.96\n",
    "Xmean = 80\n",
    "n = 256\n",
    "k = z1_2 * si/pow(n , 0.5)\n",
    "interval = ([round(Xmean - k, 2), round(Xmean + k, 2)])\n",
    "interval"
   ]
  },
  {
   "cell_type": "markdown",
   "metadata": {},
   "source": [
    "### Задание 2\n",
    "В результате 10 независимых измерений некоторой величины X, выполненных с одинаковой точностью,\n",
    "получены опытные данные:\n",
    "6.9, 6.1, 6.2, 6.8, 7.5, 6.3, 6.4, 6.9, 6.7, 6.1\n",
    "Предполагая, что результаты измерений подчинены нормальному закону распределения вероятностей,\n",
    "оценить истинное значение величины X при помощи доверительного интервала, покрывающего это\n",
    "значение с доверительной вероятностью 0,95."
   ]
  },
  {
   "cell_type": "markdown",
   "metadata": {},
   "source": [
    "interval = Xmean +- t1_2 * si/sqrt(n) - считаем по T гипотезе, так как сигма не известна"
   ]
  },
  {
   "cell_type": "code",
   "execution_count": 28,
   "metadata": {},
   "outputs": [
    {
     "data": {
      "text/plain": [
       "[6.27, 6.91]"
      ]
     },
     "execution_count": 28,
     "metadata": {},
     "output_type": "execute_result"
    }
   ],
   "source": [
    "x = np.array([6.9, 6.1, 6.2, 6.8, 7.5, 6.3, 6.4, 6.9, 6.7, 6.1])\n",
    "n = len(x)\n",
    "t1_2 = 2.262\n",
    "Xmean = x.sum()/len(x)\n",
    "si = x.std(ddof=1)\n",
    "k = t1_2 * si/pow(n, 0.5)\n",
    "interval = ([round(Xmean - k, 2), round(Xmean + k, 2)])\n",
    "interval"
   ]
  },
  {
   "cell_type": "markdown",
   "metadata": {},
   "source": [
    "### Задание 3\n",
    "Утверждается, что шарики для подшипников, изготовленные автоматическим станком, имеют средний диаметр 17 мм.\n",
    "Используя односторонний критерий с α=0,05, проверить эту гипотезу, если в выборке из n=100 шариков средний диаметр\n",
    "оказался равным 17.5 мм, а дисперсия известна и равна 4 кв.мм."
   ]
  },
  {
   "cell_type": "markdown",
   "metadata": {},
   "source": [
    "считаем по Z гипотезе, так как сигма известна\n",
    "\n",
    "interval_dov = 1-α\n",
    "\n",
    "Zn = (Xmean-Xo)/(si/sqrt(n))\n",
    "\n",
    "H1 утверждает, что D1 > D"
   ]
  },
  {
   "cell_type": "code",
   "execution_count": 29,
   "metadata": {},
   "outputs": [
    {
     "name": "stdout",
     "output_type": "stream",
     "text": [
      "H1 верна. 2.5 > 1.645\n"
     ]
    }
   ],
   "source": [
    "α = 0.05\n",
    "Dmean = 17\n",
    "Dsel = 17.5\n",
    "n = 100\n",
    "si = 2\n",
    "interval_dov = 1 - α\n",
    "z0 = 1.645 # из доверительного интервала (одностороннего)\n",
    "Zn = (Dsel - Dmean)/(si / pow(n,0.5))\n",
    "if Zn < z0:\n",
    "    print('H0 верна.', Zn, '<',z0)\n",
    "else:\n",
    "    print('H1 верна.', Zn, '>',z0)"
   ]
  },
  {
   "cell_type": "markdown",
   "metadata": {},
   "source": [
    "### Задание 4\n",
    "Продавец утверждает, что средний вес пачки печенья составляет 200 г. Из партии извлечена выборка из 10 пачек. Вес каждой пачки составляет: 202, 203, 199, 197, 195, 201, 200, 204, 194, 190. Известно, что их веса распределены нормально. Верно ли утверждение продавца, если учитывать, что доверительная вероятность равна 99%?"
   ]
  },
  {
   "cell_type": "markdown",
   "metadata": {},
   "source": [
    "считаем по T гипотезе, так как сигма не известна\n",
    "\n",
    "H1 утверждает, что Mmean<>M0\n",
    "\n",
    "α = 1 - 0.99\n",
    "\n",
    "Tα/2 = 3.25 для 10 измерений"
   ]
  },
  {
   "cell_type": "code",
   "execution_count": 31,
   "metadata": {},
   "outputs": [
    {
     "data": {
      "text/plain": [
       "(-1.0651074037450896, -3.25)"
      ]
     },
     "execution_count": 31,
     "metadata": {},
     "output_type": "execute_result"
    }
   ],
   "source": [
    "y = np.array([202, 203, 199, 197, 195, 201, 200, 204, 194, 190])\n",
    "M0 = 200\n",
    "Mmean = y.sum()/n\n",
    "Tα_2 = 3.25\n",
    "si = y.std(ddof=1)\n",
    "n = 10\n",
    "Tn = (Mmean - M0)/(si / pow(n,0.5))\n",
    "\n",
    "Tn, -Tα_2"
   ]
  },
  {
   "cell_type": "code",
   "execution_count": null,
   "metadata": {},
   "outputs": [],
   "source": [
    "Гипотиза верна, так как Tn внутри Tα_2"
   ]
  }
 ],
 "metadata": {
  "kernelspec": {
   "display_name": "Python 3",
   "language": "python",
   "name": "python3"
  },
  "language_info": {
   "codemirror_mode": {
    "name": "ipython",
    "version": 3
   },
   "file_extension": ".py",
   "mimetype": "text/x-python",
   "name": "python",
   "nbconvert_exporter": "python",
   "pygments_lexer": "ipython3",
   "version": "3.7.3"
  }
 },
 "nbformat": 4,
 "nbformat_minor": 2
}
