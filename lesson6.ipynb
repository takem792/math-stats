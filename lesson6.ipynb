{
 "cells": [
  {
   "cell_type": "markdown",
   "metadata": {},
   "source": [
    "# Задание № 6 Иванов Сергей."
   ]
  },
  {
   "cell_type": "code",
   "execution_count": 80,
   "metadata": {},
   "outputs": [],
   "source": [
    "import numpy as np\n",
    "import pandas as pd"
   ]
  },
  {
   "cell_type": "markdown",
   "metadata": {},
   "source": [
    "### Задание 1\n",
    "Даны значения величины заработной платы заемщиков банка (zp) и значения их поведенческого кредитного скоринга (ks):\n",
    "zp = [35, 45, 190, 200, 40, 70, 54, 150, 120, 110],\n",
    "ks = [401, 574, 874, 919, 459, 739, 653, 902, 746, 832].\n",
    "Найдите ковариацию этих двух величин с помощью элементарных действий, а затем с помощью функции cov из numpy\n",
    "Полученные значения должны быть равны.\n",
    "Найдите коэффициент корреляции Пирсона с помощью ковариации и среднеквадратичных отклонений двух признаков,\n",
    "а затем с использованием функций из библиотек numpy и pandas."
   ]
  },
  {
   "cell_type": "code",
   "execution_count": 81,
   "metadata": {},
   "outputs": [],
   "source": [
    "zp = np.array([35, 45, 190, 200, 40, 70, 54, 150, 120, 110])\n",
    "ks = np.array([401, 574, 874, 919, 459, 739, 653, 902, 746, 832])"
   ]
  },
  {
   "cell_type": "code",
   "execution_count": 82,
   "metadata": {},
   "outputs": [
    {
     "data": {
      "text/plain": [
       "(9157.84, 9157.84)"
      ]
     },
     "execution_count": 82,
     "metadata": {},
     "output_type": "execute_result"
    }
   ],
   "source": [
    "# covXY=M[(X−M(X))(Y−M(Y))]=M(XY)−M(X)M(Y)=X⋅Ym−Xm⋅Ym\n",
    "covXY = round((zp*ks).sum()/len(zp) - zp.sum()/len(zp)*ks.sum()/len(ks),2)\n",
    "cov = np.cov(zp,ks,ddof=0)\n",
    "\n",
    "covXY, cov[0,1]"
   ]
  },
  {
   "cell_type": "code",
   "execution_count": 83,
   "metadata": {},
   "outputs": [
    {
     "data": {
      "text/plain": [
       "(0.8875, 0.8875, 0.8875)"
      ]
     },
     "execution_count": 83,
     "metadata": {},
     "output_type": "execute_result"
    }
   ],
   "source": [
    "# rXY=covXY/σXσY  -  коэффициент корреляции Пирсона:\n",
    "corrcoef_p = covXY / pow(pow((zp-zp.sum() / len(zp)),2).sum()/len(zp),0.5) / pow(pow((ks-ks.sum() / len(ks)),2).sum()/len(ks),0.5)\n",
    "corrcoef = np.corrcoef(zp,ks)\n",
    "corr_pandas = pd.DataFrame({'zp': zp, 'ks': ks}).corr()['zp'][1]\n",
    "\n",
    "round(corrcoef_p,4), round(corrcoef[0,1],4), round(corr_pandas,4)"
   ]
  },
  {
   "cell_type": "markdown",
   "metadata": {},
   "source": [
    "### Задание 2\n",
    "Измерены значения IQ выборки студентов,\n",
    "обучающихся в местных технических вузах:\n",
    "131, 125, 115, 122, 131, 115, 107, 99, 125, 111.\n",
    "Известно, что в генеральной совокупности IQ распределен нормально.\n",
    "Найдите доверительный интервал для математического ожидания с надежностью 0.95."
   ]
  },
  {
   "cell_type": "markdown",
   "metadata": {},
   "source": [
    "interval = Xmean +- t1_2 * si/sqrt(n)  -  считаем по T гипотезе, так как сигма не известна"
   ]
  },
  {
   "cell_type": "code",
   "execution_count": 84,
   "metadata": {},
   "outputs": [
    {
     "data": {
      "text/plain": [
       "[110.56, 125.64]"
      ]
     },
     "execution_count": 84,
     "metadata": {},
     "output_type": "execute_result"
    }
   ],
   "source": [
    "iq = np.array([131, 125, 115, 122, 131, 115, 107, 99, 125, 111])\n",
    "n = len(iq)\n",
    "t1_2 = 2.262\n",
    "Xmean = iq.sum()/len(iq)\n",
    "si = iq.std(ddof=1)\n",
    "k = t1_2 * si/pow(n, 0.5)\n",
    "interval = ([round(Xmean - k, 2), round(Xmean + k, 2)])\n",
    "interval"
   ]
  },
  {
   "cell_type": "markdown",
   "metadata": {},
   "source": [
    "### Задание 3\n",
    "Известно, что рост футболистов в сборной распределен нормально\n",
    "с дисперсией генеральной совокупности, равной 25 кв.см. Объем выборки равен 27,\n",
    "среднее выборочное составляет 174.2. Найдите доверительный интервал для математического\n",
    "ожидания с надежностью 0.95."
   ]
  },
  {
   "cell_type": "markdown",
   "metadata": {},
   "source": [
    "interval = Xmean +- z1_2 * si/sqrt(n) - считаем по Z гипотезе, так как сигма известна"
   ]
  },
  {
   "cell_type": "code",
   "execution_count": 85,
   "metadata": {},
   "outputs": [
    {
     "data": {
      "text/plain": [
       "[172.61, 176.39]"
      ]
     },
     "execution_count": 85,
     "metadata": {},
     "output_type": "execute_result"
    }
   ],
   "source": [
    "si = 5\n",
    "z1_2 = 1.96\n",
    "Xmean = 174.5\n",
    "n = 27\n",
    "k = z1_2 * si/pow(n , 0.5)\n",
    "interval = ([round(Xmean - k, 2), round(Xmean + k, 2)])\n",
    "interval"
   ]
  },
  {
   "cell_type": "markdown",
   "metadata": {},
   "source": [
    "### Задание 4\n",
    "Мне нравится такая постановка задачи :) Если честно, сложно взять и понять что с чем и как стравнить чтобы интересно, чтобы решаемо и чтобы были данные :))) Если есть можножность чуть попозже определить, было бы классно.\n",
    "\n",
    "\"В проектной работе хотела бы сделать анализ по Странам по данным imbd.com.\n",
    "По странам рассчитать основные статистические показатели: Мода, медиана, квартили, дисперсию.\n",
    "Проверить, работает ли нормальное распределение и Паретто.\n",
    "Проверить есть ли зависимость бюджетов, рейтингов, жанров от страны выпуска фильмов.\n",
    "Посмотреть поведение стран во времени.\n",
    "В идеале, хотела бы сделать прогноз на 2020 год: какие страны с какой вероятностью выпустят определенное количество фильмов с определенным бюджетом определенного жанра\""
   ]
  }
 ],
 "metadata": {
  "kernelspec": {
   "display_name": "Python 3",
   "language": "python",
   "name": "python3"
  },
  "language_info": {
   "codemirror_mode": {
    "name": "ipython",
    "version": 3
   },
   "file_extension": ".py",
   "mimetype": "text/x-python",
   "name": "python",
   "nbconvert_exporter": "python",
   "pygments_lexer": "ipython3",
   "version": "3.7.3"
  }
 },
 "nbformat": 4,
 "nbformat_minor": 2
}
